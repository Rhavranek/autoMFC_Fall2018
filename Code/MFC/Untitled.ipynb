{
 "cells": [
  {
   "cell_type": "code",
   "execution_count": 2,
   "metadata": {},
   "outputs": [],
   "source": [
    "import binascii"
   ]
  },
  {
   "cell_type": "code",
   "execution_count": 15,
   "metadata": {},
   "outputs": [],
   "source": [
    "def calcCRC(cmnd):\n",
    "    # cmnd is a byte array containing the command ASCII string; example: cmnd=\"Sinv2.000\"\n",
    "    # an unsigned 32 bit integer is returned to the calling program\n",
    "    # only the lower 16 bits contain the crc\n",
    "\n",
    "    crc = 0xffff # initialize crc to hex value 0xffff\n",
    "\n",
    "    for character in cmnd: # this for loop starts with ASCCII 'S' and loops through to the last ASCII '0'\n",
    "        hex_char = (int(ord(character)))\n",
    "        #hex_char = character\n",
    "        crc=crc^(hex_char*0x0100) # the ASCII value is times by 0x0100 first then XORED to the current crc value\n",
    "        #for(j=0; j<8; j++) # the crc is hashed 8 times with this for loop\n",
    "        j = 0\n",
    "        for j in range(0,8):\n",
    "            # if the 15th bit is set (tested by ANDING with hex 0x8000 and testing for 0x8000 result)\n",
    "            # then crc is shifted left one bit (same as times 2) XORED with hex 0x1021 and ANDED to\n",
    "            # hex 0xffff to limit the crc to lower 16 bits. If the 15th bit is not set then the crc\n",
    "            # is shifted left one bit and ANDED with hex 0xffff to limit the crc to lower 16 bits.\n",
    "            if((crc&0x8000)==0x8000):\n",
    "                crc=((crc<<1)^0x1021)&0xffff\n",
    "            else:\n",
    "                crc=(crc<<1)&0xffff\n",
    "            # end of j loop\n",
    "        # end of i loop\n",
    "    # There are some crc values that are not allowed, 0x00 and 0x0d\n",
    "\n",
    "    # These are byte values so the high byte and the low byte of the crc must be checked and incremented if\n",
    "        # the bytes are either 0x00 0r 0x0d\n",
    "    if((crc&0xff00)==0x0d00):\n",
    "        crc +=0x0100\n",
    "    if((crc&0x00ff)==0x000d):\n",
    "        crc +=0x0001\n",
    "    if((crc&0xff00)==0x0000):\n",
    "        crc +=0x0100\n",
    "    if((crc&0x00ff)==0x0000):\n",
    "        crc +=0x0001\n",
    "\n",
    "    crc_hex_string = str(hex(crc))\n",
    "    if len(crc_hex_string) < 6:\n",
    "        crc_hex_string_final = crc_hex_string[:2] + '0' + crc_hex_string[2:]\n",
    "    else:\n",
    "        crc_hex_string_final = crc_hex_string\n",
    "    first_byte = crc_hex_string_final[2:4]\n",
    "    second_byte = crc_hex_string_final[4:6]\n",
    "    final = binascii.unhexlify(first_byte + second_byte)\n",
    "    \n",
    "    return (final)"
   ]
  },
  {
   "cell_type": "code",
   "execution_count": 23,
   "metadata": {},
   "outputs": [
    {
     "name": "stdout",
     "output_type": "stream",
     "text": [
      "b'\\x8fU'\n"
     ]
    }
   ],
   "source": [
    "cmnd = \"Sinv2.000\"\n",
    "crc=calcCRC(cmnd)\n",
    "print (crc)"
   ]
  },
  {
   "cell_type": "code",
   "execution_count": null,
   "metadata": {},
   "outputs": [],
   "source": []
  }
 ],
 "metadata": {
  "kernelspec": {
   "display_name": "Python 3",
   "language": "python",
   "name": "python3"
  },
  "language_info": {
   "codemirror_mode": {
    "name": "ipython",
    "version": 3
   },
   "file_extension": ".py",
   "mimetype": "text/x-python",
   "name": "python",
   "nbconvert_exporter": "python",
   "pygments_lexer": "ipython3",
   "version": "3.6.5"
  }
 },
 "nbformat": 4,
 "nbformat_minor": 2
}
